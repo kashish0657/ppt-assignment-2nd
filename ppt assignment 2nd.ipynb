{
 "cells": [
  {
   "cell_type": "markdown",
   "id": "99a6e9e6-04bf-4057-8faa-212d479deb26",
   "metadata": {},
   "source": [
    "## ppt assignment 2nd"
   ]
  },
  {
   "cell_type": "markdown",
   "id": "eb7844e7-6751-4498-99f3-68f9bf1012c9",
   "metadata": {},
   "source": [
    "## 1:ans:-"
   ]
  },
  {
   "cell_type": "code",
   "execution_count": 1,
   "id": "f4d7bd04-9c5d-477d-b569-5a01e853fcb0",
   "metadata": {},
   "outputs": [],
   "source": [
    "def arrayPairSum(nums):\n",
    "    nums.sort()  # Sort the array in ascending order\n",
    "    sum_min = 0\n",
    "    for i in range(0, len(nums), 2):\n",
    "        sum_min += nums[i]\n",
    "    return sum_min"
   ]
  },
  {
   "cell_type": "code",
   "execution_count": 2,
   "id": "82854e9a-f426-45df-91e6-b42b3158326a",
   "metadata": {},
   "outputs": [
    {
     "name": "stdout",
     "output_type": "stream",
     "text": [
      "4\n"
     ]
    }
   ],
   "source": [
    "nums = [1, 4, 3, 2]\n",
    "max_sum = arrayPairSum(nums)\n",
    "print(max_sum)"
   ]
  },
  {
   "cell_type": "markdown",
   "id": "f8b3978c-d77e-4077-8f46-e458c18a3bac",
   "metadata": {},
   "source": [
    "## 2:ans:-"
   ]
  },
  {
   "cell_type": "code",
   "execution_count": 4,
   "id": "73e965ab-f599-4089-a6db-69242a23dd62",
   "metadata": {},
   "outputs": [],
   "source": [
    "def maxCandies(candyType):\n",
    "    unique_candies = set(candyType)\n",
    "    max_types = len(unique_candies)\n",
    "    max_limit = len(candyType) // 2\n",
    "\n",
    "    return min(max_types, max_limit)"
   ]
  },
  {
   "cell_type": "markdown",
   "id": "d4d7afa1-1fcb-4183-992e-1a3bf02b5b99",
   "metadata": {},
   "source": [
    "## 3:ans:-"
   ]
  },
  {
   "cell_type": "code",
   "execution_count": 6,
   "id": "529fcef4-9340-46c1-9e87-fecad7ccf597",
   "metadata": {},
   "outputs": [],
   "source": [
    "from collections import defaultdict\n",
    "\n",
    "def findLHS(nums):\n",
    "    freq = defaultdict(int)\n",
    "    maxLen = 0\n",
    "\n",
    "    # Count the frequency of each number\n",
    "    for num in nums:\n",
    "        freq[num] += 1\n",
    "\n",
    "    # Find the maximum length of a harmonious subsequence\n",
    "    for key in freq:\n",
    "        if key + 1 in freq:\n",
    "            maxLen = max(maxLen, freq[key] + freq[key + 1])\n",
    "\n",
    "    return maxLen"
   ]
  },
  {
   "cell_type": "markdown",
   "id": "811ad722-5cc4-4d64-86fe-b63101abeaf5",
   "metadata": {},
   "source": [
    "## 4:ans:-"
   ]
  },
  {
   "cell_type": "code",
   "execution_count": 7,
   "id": "a28807ea-39dd-4c73-978b-cd3a77fdf632",
   "metadata": {},
   "outputs": [],
   "source": [
    "def can_place_flowers(flowerbed, n):\n",
    "    count = 0\n",
    "    i = 0\n",
    "    while i < len(flowerbed):\n",
    "        if flowerbed[i] == 0 and (i == 0 or flowerbed[i - 1] == 0) and (i == len(flowerbed) - 1 or flowerbed[i + 1] == 0):\n",
    "            flowerbed[i] = 1\n",
    "            count += 1\n",
    "            i += 2  # Skip the next plot since adjacent flowers are not allowed\n",
    "        else:\n",
    "            i += 1\n",
    "\n",
    "    return count >= n"
   ]
  },
  {
   "cell_type": "markdown",
   "id": "2f590458-0379-4211-b579-572b50a44f5e",
   "metadata": {},
   "source": [
    "## 5:ans:-"
   ]
  },
  {
   "cell_type": "code",
   "execution_count": 8,
   "id": "95985505-2917-4343-b556-271a14d0e829",
   "metadata": {},
   "outputs": [
    {
     "name": "stdout",
     "output_type": "stream",
     "text": [
      "Maximum product: 24\n"
     ]
    }
   ],
   "source": [
    "def maximum_product(nums):\n",
    "    nums.sort()  # Sort the array in non-decreasing order\n",
    "    n = len(nums)\n",
    "    # Calculate the product of the last three elements\n",
    "    return nums[n-1] * nums[n-2] * nums[n-3]\n",
    "\n",
    "# Example usage\n",
    "nums = [-10, -5, 1, 2, 3, 4]\n",
    "max_product = maximum_product(nums)\n",
    "print(\"Maximum product:\", max_product)\n"
   ]
  },
  {
   "cell_type": "markdown",
   "id": "80251923-d1e2-4aca-ad1c-dbefd6a47e8d",
   "metadata": {},
   "source": [
    "## 6:ans:-"
   ]
  },
  {
   "cell_type": "code",
   "execution_count": 2,
   "id": "d2c6e583-b96b-4357-95d6-4a566556a9a2",
   "metadata": {},
   "outputs": [],
   "source": [
    "def search(nums, target):\n",
    "    left, right = 0, len(nums) - 1\n",
    "\n",
    "    while left <= right:\n",
    "        mid = (left + right) // 2\n",
    "\n",
    "        if nums[mid] == target:\n",
    "            return mid\n",
    "        elif nums[mid] < target:\n",
    "            left = mid + 1\n",
    "        else:\n",
    "            right = mid - 1\n",
    "\n",
    "    return -1\n"
   ]
  },
  {
   "cell_type": "code",
   "execution_count": 3,
   "id": "b50a2c8c-a142-40b7-9b8d-c6dbd74ba98e",
   "metadata": {},
   "outputs": [
    {
     "name": "stdout",
     "output_type": "stream",
     "text": [
      "4\n"
     ]
    }
   ],
   "source": [
    "nums = [-1, 0, 3, 5, 9, 12]\n",
    "target = 9\n",
    "\n",
    "index = search(nums, target)\n",
    "print(index)  # Output: 4\n"
   ]
  },
  {
   "cell_type": "markdown",
   "id": "30b1ef9d-6a73-4aed-b5be-c26019549dcc",
   "metadata": {},
   "source": [
    "## 7:ans:-"
   ]
  },
  {
   "cell_type": "code",
   "execution_count": 4,
   "id": "3c2580b6-562a-41f7-9831-1d0aa242b136",
   "metadata": {},
   "outputs": [
    {
     "name": "stdout",
     "output_type": "stream",
     "text": [
      "True\n",
      "True\n",
      "False\n"
     ]
    }
   ],
   "source": [
    "def isMonotonic(nums):\n",
    "    if len(nums) <= 2:  # Trivially monotonic for arrays of size 2 or less\n",
    "        return True\n",
    "\n",
    "    increasing = decreasing = True\n",
    "\n",
    "    for i in range(1, len(nums)):\n",
    "        if nums[i] < nums[i - 1]:\n",
    "            increasing = False\n",
    "        if nums[i] > nums[i - 1]:\n",
    "            decreasing = False\n",
    "\n",
    "    return increasing or decreasing\n",
    "\n",
    "# Example usage\n",
    "nums = [1, 2, 3, 4, 5]\n",
    "print(isMonotonic(nums))  # True\n",
    "\n",
    "nums = [5, 4, 3, 2, 1]\n",
    "print(isMonotonic(nums))  # True\n",
    "\n",
    "nums = [1, 3, 2, 4, 5]\n",
    "print(isMonotonic(nums))  # False\n"
   ]
  },
  {
   "cell_type": "markdown",
   "id": "370ef1b5-d39c-4b06-aa9d-be25c360ba00",
   "metadata": {},
   "source": [
    "## 8:ans:-"
   ]
  },
  {
   "cell_type": "code",
   "execution_count": null,
   "id": "8d6736a0-307b-4d10-a944-3bdf7c3eedb3",
   "metadata": {},
   "outputs": [],
   "source": []
  }
 ],
 "metadata": {
  "kernelspec": {
   "display_name": "Python 3 (ipykernel)",
   "language": "python",
   "name": "python3"
  },
  "language_info": {
   "codemirror_mode": {
    "name": "ipython",
    "version": 3
   },
   "file_extension": ".py",
   "mimetype": "text/x-python",
   "name": "python",
   "nbconvert_exporter": "python",
   "pygments_lexer": "ipython3",
   "version": "3.10.8"
  }
 },
 "nbformat": 4,
 "nbformat_minor": 5
}
